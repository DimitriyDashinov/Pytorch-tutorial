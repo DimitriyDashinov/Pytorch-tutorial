{
 "cells": [
  {
   "cell_type": "markdown",
   "metadata": {},
   "source": [
    "### Part 1 Tensors"
   ]
  },
  {
   "cell_type": "code",
   "execution_count": 64,
   "metadata": {},
   "outputs": [],
   "source": [
    "import torch\n",
    "import numpy as np"
   ]
  },
  {
   "cell_type": "markdown",
   "metadata": {},
   "source": [
    "#### Initializing tensors:\n",
    "##### Method 1: Directly from data"
   ]
  },
  {
   "cell_type": "code",
   "execution_count": 65,
   "metadata": {},
   "outputs": [
    {
     "data": {
      "text/plain": [
       "[[1, 2], [2, 4]]"
      ]
     },
     "execution_count": 65,
     "metadata": {},
     "output_type": "execute_result"
    }
   ],
   "source": [
    "simple_list = [[1,2], [2,4]]\n",
    "simple_list"
   ]
  },
  {
   "cell_type": "code",
   "execution_count": 66,
   "metadata": {},
   "outputs": [
    {
     "data": {
      "text/plain": [
       "tensor([[1, 2],\n",
       "        [2, 4]])"
      ]
     },
     "execution_count": 66,
     "metadata": {},
     "output_type": "execute_result"
    }
   ],
   "source": [
    "simple_list = torch.tensor(simple_list)\n",
    "simple_list"
   ]
  },
  {
   "cell_type": "markdown",
   "metadata": {},
   "source": [
    "##### Method 2: Going from np array to tensor and  vice versa"
   ]
  },
  {
   "cell_type": "code",
   "execution_count": 67,
   "metadata": {},
   "outputs": [
    {
     "data": {
      "text/plain": [
       "array([[1, 2],\n",
       "       [2, 4]])"
      ]
     },
     "execution_count": 67,
     "metadata": {},
     "output_type": "execute_result"
    }
   ],
   "source": [
    "np_data = np.array([[1,2], [2,4]])\n",
    "np_data"
   ]
  },
  {
   "cell_type": "markdown",
   "metadata": {},
   "source": [
    "This will retain the np properties, like dtype or shape"
   ]
  },
  {
   "cell_type": "code",
   "execution_count": 68,
   "metadata": {},
   "outputs": [
    {
     "data": {
      "text/plain": [
       "tensor([[1, 2],\n",
       "        [2, 4]], dtype=torch.int32)"
      ]
     },
     "execution_count": 68,
     "metadata": {},
     "output_type": "execute_result"
    }
   ],
   "source": [
    "x = torch.from_numpy(np_data)\n",
    "x"
   ]
  },
  {
   "cell_type": "code",
   "execution_count": 69,
   "metadata": {},
   "outputs": [
    {
     "name": "stdout",
     "output_type": "stream",
     "text": [
      "torch.int32\n",
      "torch.Size([2, 2])\n"
     ]
    }
   ],
   "source": [
    "print(x.dtype)\n",
    "print(x.shape)"
   ]
  },
  {
   "cell_type": "markdown",
   "metadata": {},
   "source": [
    "Even if we change the actual values the np properties will be retained"
   ]
  },
  {
   "cell_type": "code",
   "execution_count": 70,
   "metadata": {},
   "outputs": [
    {
     "data": {
      "text/plain": [
       "tensor([[1, 1],\n",
       "        [1, 1]], dtype=torch.int32)"
      ]
     },
     "execution_count": 70,
     "metadata": {},
     "output_type": "execute_result"
    }
   ],
   "source": [
    "y = torch.ones_like(x)\n",
    "y"
   ]
  },
  {
   "cell_type": "markdown",
   "metadata": {},
   "source": [
    "If we want to overwrite this we can:"
   ]
  },
  {
   "cell_type": "code",
   "execution_count": 71,
   "metadata": {},
   "outputs": [
    {
     "data": {
      "text/plain": [
       "tensor([[0.7044, 0.1454],\n",
       "        [0.7153, 0.9423]])"
      ]
     },
     "execution_count": 71,
     "metadata": {},
     "output_type": "execute_result"
    }
   ],
   "source": [
    "z = torch.rand_like(x, dtype = torch.float)\n",
    "z"
   ]
  },
  {
   "cell_type": "code",
   "execution_count": 72,
   "metadata": {},
   "outputs": [
    {
     "name": "stdout",
     "output_type": "stream",
     "text": [
      "torch.float32\n",
      "torch.Size([2, 2])\n"
     ]
    }
   ],
   "source": [
    "print(z.dtype)\n",
    "print(z.shape)"
   ]
  },
  {
   "cell_type": "markdown",
   "metadata": {},
   "source": [
    "##### Method 3: From another tensor"
   ]
  },
  {
   "cell_type": "code",
   "execution_count": 73,
   "metadata": {},
   "outputs": [
    {
     "data": {
      "text/plain": [
       "tensor([[0.7709, 0.9861, 0.1341],\n",
       "        [0.3277, 0.9959, 0.9150]])"
      ]
     },
     "execution_count": 73,
     "metadata": {},
     "output_type": "execute_result"
    }
   ],
   "source": [
    "shape = (2,3,)\n",
    "torch.rand(shape)"
   ]
  },
  {
   "cell_type": "code",
   "execution_count": 74,
   "metadata": {},
   "outputs": [
    {
     "data": {
      "text/plain": [
       "tensor([[1., 1., 1.],\n",
       "        [1., 1., 1.]])"
      ]
     },
     "execution_count": 74,
     "metadata": {},
     "output_type": "execute_result"
    }
   ],
   "source": [
    "torch.ones(shape)"
   ]
  },
  {
   "cell_type": "code",
   "execution_count": 75,
   "metadata": {},
   "outputs": [
    {
     "data": {
      "text/plain": [
       "tensor([[0., 0., 0.],\n",
       "        [0., 0., 0.]])"
      ]
     },
     "execution_count": 75,
     "metadata": {},
     "output_type": "execute_result"
    }
   ],
   "source": [
    "torch.zeros(shape)"
   ]
  },
  {
   "cell_type": "code",
   "execution_count": 76,
   "metadata": {},
   "outputs": [
    {
     "name": "stdout",
     "output_type": "stream",
     "text": [
      "torch.Size([3, 4])\n",
      "torch.float32\n",
      "cpu\n"
     ]
    }
   ],
   "source": [
    "tensor = torch.rand(3, 4)\n",
    "print(tensor.shape)\n",
    "print(tensor.dtype)\n",
    "print(tensor.device)"
   ]
  },
  {
   "cell_type": "code",
   "execution_count": 77,
   "metadata": {},
   "outputs": [
    {
     "data": {
      "text/plain": [
       "False"
      ]
     },
     "execution_count": 77,
     "metadata": {},
     "output_type": "execute_result"
    }
   ],
   "source": [
    "torch.cuda.is_available()"
   ]
  },
  {
   "cell_type": "code",
   "execution_count": 78,
   "metadata": {},
   "outputs": [],
   "source": [
    "if torch.cuda.is_available():\n",
    "    tensor = tensor.to('cuda')"
   ]
  },
  {
   "cell_type": "markdown",
   "metadata": {},
   "source": [
    "#### Tensor operations"
   ]
  },
  {
   "cell_type": "markdown",
   "metadata": {},
   "source": [
    "NumPy like operations"
   ]
  },
  {
   "cell_type": "code",
   "execution_count": 79,
   "metadata": {},
   "outputs": [
    {
     "data": {
      "text/plain": [
       "tensor([[0.2543, 0.2066, 0.2495, 0.2001],\n",
       "        [0.7687, 0.6524, 0.9899, 0.6351],\n",
       "        [0.5903, 0.4982, 0.7260, 0.7534]])"
      ]
     },
     "execution_count": 79,
     "metadata": {},
     "output_type": "execute_result"
    }
   ],
   "source": [
    "tensor"
   ]
  },
  {
   "cell_type": "code",
   "execution_count": 80,
   "metadata": {},
   "outputs": [
    {
     "data": {
      "text/plain": [
       "tensor([0.2543, 0.2066, 0.2495, 0.2001])"
      ]
     },
     "execution_count": 80,
     "metadata": {},
     "output_type": "execute_result"
    }
   ],
   "source": [
    "tensor[0]"
   ]
  },
  {
   "cell_type": "code",
   "execution_count": 81,
   "metadata": {},
   "outputs": [
    {
     "data": {
      "text/plain": [
       "tensor([0.5903, 0.4982, 0.7260, 0.7534])"
      ]
     },
     "execution_count": 81,
     "metadata": {},
     "output_type": "execute_result"
    }
   ],
   "source": [
    "tensor[-1]"
   ]
  },
  {
   "cell_type": "code",
   "execution_count": 82,
   "metadata": {},
   "outputs": [
    {
     "data": {
      "text/plain": [
       "tensor([0.2543, 0.7687, 0.5903])"
      ]
     },
     "execution_count": 82,
     "metadata": {},
     "output_type": "execute_result"
    }
   ],
   "source": [
    "tensor[:,0]"
   ]
  },
  {
   "cell_type": "code",
   "execution_count": 83,
   "metadata": {},
   "outputs": [
    {
     "data": {
      "text/plain": [
       "tensor([[0.2543, 0.0000, 0.2495, 0.2001],\n",
       "        [0.7687, 0.0000, 0.9899, 0.6351],\n",
       "        [0.5903, 0.0000, 0.7260, 0.7534]])"
      ]
     },
     "execution_count": 83,
     "metadata": {},
     "output_type": "execute_result"
    }
   ],
   "source": [
    "tensor[:,1] = 0\n",
    "tensor"
   ]
  },
  {
   "cell_type": "code",
   "execution_count": 84,
   "metadata": {},
   "outputs": [
    {
     "data": {
      "text/plain": [
       "tensor([[0.2543, 0.0000, 0.2495, 0.2001],\n",
       "        [0.7687, 0.0000, 0.9899, 0.6351],\n",
       "        [0.5903, 0.0000, 0.7260, 0.7534],\n",
       "        [0.2543, 0.0000, 0.2495, 0.2001],\n",
       "        [0.7687, 0.0000, 0.9899, 0.6351],\n",
       "        [0.5903, 0.0000, 0.7260, 0.7534]])"
      ]
     },
     "execution_count": 84,
     "metadata": {},
     "output_type": "execute_result"
    }
   ],
   "source": [
    "torch.cat([tensor, tensor])"
   ]
  },
  {
   "cell_type": "code",
   "execution_count": 85,
   "metadata": {},
   "outputs": [
    {
     "data": {
      "text/plain": [
       "tensor([[0.2543, 0.0000, 0.2495, 0.2001, 0.2543, 0.0000, 0.2495, 0.2001],\n",
       "        [0.7687, 0.0000, 0.9899, 0.6351, 0.7687, 0.0000, 0.9899, 0.6351],\n",
       "        [0.5903, 0.0000, 0.7260, 0.7534, 0.5903, 0.0000, 0.7260, 0.7534]])"
      ]
     },
     "execution_count": 85,
     "metadata": {},
     "output_type": "execute_result"
    }
   ],
   "source": [
    "torch.cat([tensor, tensor], dim = 1)"
   ]
  },
  {
   "cell_type": "markdown",
   "metadata": {},
   "source": [
    "##### Matrix multiplication"
   ]
  },
  {
   "cell_type": "markdown",
   "metadata": {},
   "source": [
    "To perform matrix multiplication, the first matrix must have the same number of columns as the second matrix has rows. The number of rows of the resulting matrix equals the number of rows of the first matrix, and the number of columns of the resulting matrix equals the number of columns of the second matrix.\n",
    "\n",
    "👉 https://en.wikipedia.org/wiki/Matrix_multiplication"
   ]
  },
  {
   "cell_type": "code",
   "execution_count": 86,
   "metadata": {},
   "outputs": [
    {
     "data": {
      "text/plain": [
       "torch.Size([3, 4])"
      ]
     },
     "execution_count": 86,
     "metadata": {},
     "output_type": "execute_result"
    }
   ],
   "source": [
    "tensor.shape"
   ]
  },
  {
   "cell_type": "code",
   "execution_count": 87,
   "metadata": {},
   "outputs": [
    {
     "data": {
      "text/plain": [
       "torch.Size([4, 3])"
      ]
     },
     "execution_count": 87,
     "metadata": {},
     "output_type": "execute_result"
    }
   ],
   "source": [
    "tensor.T.shape"
   ]
  },
  {
   "cell_type": "code",
   "execution_count": 88,
   "metadata": {},
   "outputs": [
    {
     "data": {
      "text/plain": [
       "tensor([[0.2543, 0.0000, 0.2495, 0.2001],\n",
       "        [0.7687, 0.0000, 0.9899, 0.6351],\n",
       "        [0.5903, 0.0000, 0.7260, 0.7534]])"
      ]
     },
     "execution_count": 88,
     "metadata": {},
     "output_type": "execute_result"
    }
   ],
   "source": [
    "tensor"
   ]
  },
  {
   "cell_type": "code",
   "execution_count": 89,
   "metadata": {},
   "outputs": [
    {
     "data": {
      "text/plain": [
       "tensor([[0.2543, 0.7687, 0.5903],\n",
       "        [0.0000, 0.0000, 0.0000],\n",
       "        [0.2495, 0.9899, 0.7260],\n",
       "        [0.2001, 0.6351, 0.7534]])"
      ]
     },
     "execution_count": 89,
     "metadata": {},
     "output_type": "execute_result"
    }
   ],
   "source": [
    "tensor.T"
   ]
  },
  {
   "cell_type": "code",
   "execution_count": 90,
   "metadata": {},
   "outputs": [
    {
     "data": {
      "text/plain": [
       "tensor([[0.1670, 0.5696, 0.4821],\n",
       "        [0.5696, 1.9742, 1.6510],\n",
       "        [0.4821, 1.6510, 1.4432]])"
      ]
     },
     "execution_count": 90,
     "metadata": {},
     "output_type": "execute_result"
    }
   ],
   "source": [
    "# Use the .matmul attribute of a tensor object\n",
    "tensor.matmul(tensor.T)"
   ]
  },
  {
   "cell_type": "code",
   "execution_count": 91,
   "metadata": {},
   "outputs": [
    {
     "data": {
      "text/plain": [
       "tensor([[0.1670, 0.5696, 0.4821],\n",
       "        [0.5696, 1.9742, 1.6510],\n",
       "        [0.4821, 1.6510, 1.4432]])"
      ]
     },
     "execution_count": 91,
     "metadata": {},
     "output_type": "execute_result"
    }
   ],
   "source": [
    "# Use .matmul from torch instead\n",
    "torch.matmul(tensor,tensor.T)"
   ]
  },
  {
   "cell_type": "code",
   "execution_count": 92,
   "metadata": {},
   "outputs": [
    {
     "data": {
      "text/plain": [
       "tensor([[0.1670, 0.5696, 0.4821],\n",
       "        [0.5696, 1.9742, 1.6510],\n",
       "        [0.4821, 1.6510, 1.4432]])"
      ]
     },
     "execution_count": 92,
     "metadata": {},
     "output_type": "execute_result"
    }
   ],
   "source": [
    "# Use the \" @ \" sign which stands from matrix multiplication\n",
    "tensor @ tensor.T"
   ]
  },
  {
   "cell_type": "code",
   "execution_count": 93,
   "metadata": {},
   "outputs": [
    {
     "data": {
      "text/plain": [
       "tensor([[0.0647, 0.0000, 0.0623, 0.0400],\n",
       "        [0.5910, 0.0000, 0.9799, 0.4033],\n",
       "        [0.3485, 0.0000, 0.5271, 0.5676]])"
      ]
     },
     "execution_count": 93,
     "metadata": {},
     "output_type": "execute_result"
    }
   ],
   "source": [
    "# We may also multiply tensors element-wise as long as n rows and n columns match a.k.a. there are of the same dimension\n",
    "tensor * tensor"
   ]
  },
  {
   "cell_type": "code",
   "execution_count": 94,
   "metadata": {},
   "outputs": [
    {
     "name": "stdout",
     "output_type": "stream",
     "text": [
      "tensor([[0.0647, 0.0000, 0.0623, 0.0400],\n",
      "        [0.5910, 0.0000, 0.9799, 0.4033],\n",
      "        [0.3485, 0.0000, 0.5271, 0.5676]])\n",
      "tensor([[0.0647, 0.0000, 0.0623, 0.0400],\n",
      "        [0.5910, 0.0000, 0.9799, 0.4033],\n",
      "        [0.3485, 0.0000, 0.5271, 0.5676]])\n"
     ]
    }
   ],
   "source": [
    "# Element wise multiplication can also be done by the .mul attribute of a tensor or of torch\n",
    "print(tensor.mul(tensor))\n",
    "print(torch.mul(tensor, tensor)) "
   ]
  },
  {
   "cell_type": "markdown",
   "metadata": {},
   "source": [
    "Same for +, -, / do element wise operations"
   ]
  },
  {
   "cell_type": "code",
   "execution_count": 95,
   "metadata": {},
   "outputs": [
    {
     "data": {
      "text/plain": [
       "tensor(5.1674)"
      ]
     },
     "execution_count": 95,
     "metadata": {},
     "output_type": "execute_result"
    }
   ],
   "source": [
    "# Sum elements in tensor, which will return a one element tensor\n",
    "tensor.sum()"
   ]
  },
  {
   "cell_type": "code",
   "execution_count": 96,
   "metadata": {},
   "outputs": [
    {
     "data": {
      "text/plain": [
       "5.167440891265869"
      ]
     },
     "execution_count": 96,
     "metadata": {},
     "output_type": "execute_result"
    }
   ],
   "source": [
    "# If we want the sum to be returned into a python numeric we can call the .item attribute\n",
    "tensor.sum().item()"
   ]
  },
  {
   "cell_type": "markdown",
   "metadata": {},
   "source": [
    "The attribute operations give out an output but do not modify the tensor itself unless we assign it with the \" = \" explicitly. We can see this in the example 3 chunks of code below "
   ]
  },
  {
   "cell_type": "code",
   "execution_count": 97,
   "metadata": {},
   "outputs": [
    {
     "data": {
      "text/plain": [
       "tensor([[3.2543, 3.0000, 3.2495, 3.2001],\n",
       "        [3.7687, 3.0000, 3.9899, 3.6351],\n",
       "        [3.5903, 3.0000, 3.7260, 3.7534]])"
      ]
     },
     "execution_count": 97,
     "metadata": {},
     "output_type": "execute_result"
    }
   ],
   "source": [
    "tensor.add(3)"
   ]
  },
  {
   "cell_type": "code",
   "execution_count": 98,
   "metadata": {},
   "outputs": [
    {
     "data": {
      "text/plain": [
       "tensor([[0.2543, 0.0000, 0.2495, 0.2001],\n",
       "        [0.7687, 0.0000, 0.9899, 0.6351],\n",
       "        [0.5903, 0.0000, 0.7260, 0.7534]])"
      ]
     },
     "execution_count": 98,
     "metadata": {},
     "output_type": "execute_result"
    }
   ],
   "source": [
    "tensor"
   ]
  },
  {
   "cell_type": "code",
   "execution_count": 99,
   "metadata": {},
   "outputs": [
    {
     "data": {
      "text/plain": [
       "tensor([[3.2543, 3.0000, 3.2495, 3.2001],\n",
       "        [3.7687, 3.0000, 3.9899, 3.6351],\n",
       "        [3.5903, 3.0000, 3.7260, 3.7534]])"
      ]
     },
     "execution_count": 99,
     "metadata": {},
     "output_type": "execute_result"
    }
   ],
   "source": [
    "tensor = tensor.add(3)\n",
    "tensor"
   ]
  },
  {
   "cell_type": "markdown",
   "metadata": {},
   "source": [
    "There is another way to do this, using the \" _ \" after the attribute. In the chunk below we add another 3 to each element of the same tensor without using the \" = \" sign. **NOTE:** generally the use of \" _ \" is discouraged because it deletes the history and can be problematic in some cases"
   ]
  },
  {
   "cell_type": "code",
   "execution_count": 100,
   "metadata": {},
   "outputs": [
    {
     "data": {
      "text/plain": [
       "tensor([[6.2543, 6.0000, 6.2495, 6.2001],\n",
       "        [6.7687, 6.0000, 6.9899, 6.6351],\n",
       "        [6.5903, 6.0000, 6.7260, 6.7534]])"
      ]
     },
     "execution_count": 100,
     "metadata": {},
     "output_type": "execute_result"
    }
   ],
   "source": [
    "tensor.add_(3)\n",
    "tensor"
   ]
  },
  {
   "cell_type": "markdown",
   "metadata": {},
   "source": [
    "NumPy arrays based on tensors stay connected, which saves computational space. In the three chunks below we create an np.array based on a tensor, then change only the tensor, but then we see that the change has also been applied to the NumPy array  "
   ]
  },
  {
   "cell_type": "code",
   "execution_count": 102,
   "metadata": {},
   "outputs": [
    {
     "data": {
      "text/plain": [
       "array([[6.2543445, 6.       , 6.249512 , 6.2001143],\n",
       "       [6.768735 , 6.       , 6.9899144, 6.6350904],\n",
       "       [6.590308 , 6.       , 6.726021 , 6.753401 ]], dtype=float32)"
      ]
     },
     "execution_count": 102,
     "metadata": {},
     "output_type": "execute_result"
    }
   ],
   "source": [
    "n = tensor.numpy()\n",
    "n"
   ]
  },
  {
   "cell_type": "code",
   "execution_count": 103,
   "metadata": {},
   "outputs": [
    {
     "data": {
      "text/plain": [
       "tensor([[0.2543, 0.0000, 0.2495, 0.2001],\n",
       "        [0.7687, 0.0000, 0.9899, 0.6351],\n",
       "        [0.5903, 0.0000, 0.7260, 0.7534]])"
      ]
     },
     "execution_count": 103,
     "metadata": {},
     "output_type": "execute_result"
    }
   ],
   "source": [
    "tensor.sub_(6)"
   ]
  },
  {
   "cell_type": "code",
   "execution_count": 104,
   "metadata": {},
   "outputs": [
    {
     "data": {
      "text/plain": [
       "array([[0.25434446, 0.        , 0.2495122 , 0.20011425],\n",
       "       [0.76873493, 0.        , 0.9899144 , 0.63509035],\n",
       "       [0.5903082 , 0.        , 0.7260208 , 0.7534008 ]], dtype=float32)"
      ]
     },
     "execution_count": 104,
     "metadata": {},
     "output_type": "execute_result"
    }
   ],
   "source": [
    "n"
   ]
  },
  {
   "cell_type": "code",
   "execution_count": 116,
   "metadata": {},
   "outputs": [
    {
     "data": {
      "text/plain": [
       "array([[1., 1., 1., 1.],\n",
       "       [1., 1., 1., 1.],\n",
       "       [1., 1., 1., 1.]])"
      ]
     },
     "execution_count": 116,
     "metadata": {},
     "output_type": "execute_result"
    }
   ],
   "source": [
    "# This works vice versa\n",
    "\n",
    "n = np.ones((3 , 4))\n",
    "n"
   ]
  },
  {
   "cell_type": "code",
   "execution_count": 117,
   "metadata": {},
   "outputs": [
    {
     "data": {
      "text/plain": [
       "tensor([[1., 1., 1., 1.],\n",
       "        [1., 1., 1., 1.],\n",
       "        [1., 1., 1., 1.]], dtype=torch.float64)"
      ]
     },
     "execution_count": 117,
     "metadata": {},
     "output_type": "execute_result"
    }
   ],
   "source": [
    "\n",
    "tensor = torch.from_numpy(n)\n",
    "tensor"
   ]
  },
  {
   "cell_type": "code",
   "execution_count": 119,
   "metadata": {},
   "outputs": [
    {
     "data": {
      "text/plain": [
       "array([[1.35, 1.35, 1.35, 1.35],\n",
       "       [1.35, 1.35, 1.35, 1.35],\n",
       "       [1.35, 1.35, 1.35, 1.35]])"
      ]
     },
     "execution_count": 119,
     "metadata": {},
     "output_type": "execute_result"
    }
   ],
   "source": [
    "n = np.add(n, 0.35, out = n)\n",
    "n"
   ]
  },
  {
   "cell_type": "code",
   "execution_count": 120,
   "metadata": {},
   "outputs": [
    {
     "data": {
      "text/plain": [
       "tensor([[1.3500, 1.3500, 1.3500, 1.3500],\n",
       "        [1.3500, 1.3500, 1.3500, 1.3500],\n",
       "        [1.3500, 1.3500, 1.3500, 1.3500]], dtype=torch.float64)"
      ]
     },
     "execution_count": 120,
     "metadata": {},
     "output_type": "execute_result"
    }
   ],
   "source": [
    "tensor"
   ]
  },
  {
   "cell_type": "markdown",
   "metadata": {},
   "source": [
    "#### Pytorch profiler\n",
    "\n",
    "To check the runtime of your code"
   ]
  },
  {
   "cell_type": "code",
   "execution_count": 122,
   "metadata": {},
   "outputs": [
    {
     "data": {
      "text/plain": [
       "tensor([[0.8784, 0.5099, 0.8268, 0.0631],\n",
       "        [0.0167, 0.8509, 0.2363, 0.7816],\n",
       "        [0.1874, 0.4343, 0.7964, 0.0574]])"
      ]
     },
     "execution_count": 122,
     "metadata": {},
     "output_type": "execute_result"
    }
   ],
   "source": [
    "tensor = torch.rand((3,4))\n",
    "tensor"
   ]
  },
  {
   "cell_type": "code",
   "execution_count": 124,
   "metadata": {},
   "outputs": [],
   "source": [
    "with torch.autograd.profiler.profile(use_cpu = True) as prof:\n",
    "    for _ in range(100):\n",
    "        y = tensor @ tensor.T"
   ]
  },
  {
   "cell_type": "code",
   "execution_count": 125,
   "metadata": {},
   "outputs": [
    {
     "name": "stdout",
     "output_type": "stream",
     "text": [
      "----------------------  ------------  ------------  ------------  ------------  ------------  ------------  \n",
      "                  Name    Self CPU %      Self CPU   CPU total %     CPU total  CPU time avg    # of Calls  \n",
      "----------------------  ------------  ------------  ------------  ------------  ------------  ------------  \n",
      "         aten::numpy_T         0.23%       4.000us         1.80%      31.000us      31.000us             1  \n",
      "         aten::permute         1.10%      19.000us         1.57%      27.000us      27.000us             1  \n",
      "      aten::as_strided         0.47%       8.000us         0.47%       8.000us       8.000us             1  \n",
      "          aten::matmul         0.23%       4.000us         1.98%      34.000us      34.000us             1  \n",
      "              aten::mm         1.74%      30.000us         1.74%      30.000us      30.000us             1  \n",
      "    aten::resolve_conj         0.00%       0.000us         0.00%       0.000us       0.000us             1  \n",
      "    aten::resolve_conj         0.00%       0.000us         0.00%       0.000us       0.000us             1  \n",
      "         aten::numpy_T         0.06%       1.000us         0.47%       8.000us       8.000us             1  \n",
      "         aten::permute         0.29%       5.000us         0.41%       7.000us       7.000us             1  \n",
      "      aten::as_strided         0.12%       2.000us         0.12%       2.000us       2.000us             1  \n",
      "          aten::matmul         0.06%       1.000us         0.58%      10.000us      10.000us             1  \n",
      "              aten::mm         0.52%       9.000us         0.52%       9.000us       9.000us             1  \n",
      "    aten::resolve_conj         0.00%       0.000us         0.00%       0.000us       0.000us             1  \n",
      "    aten::resolve_conj         0.00%       0.000us         0.00%       0.000us       0.000us             1  \n",
      "         aten::numpy_T         0.06%       1.000us         0.35%       6.000us       6.000us             1  \n",
      "         aten::permute         0.23%       4.000us         0.29%       5.000us       5.000us             1  \n",
      "      aten::as_strided         0.06%       1.000us         0.06%       1.000us       1.000us             1  \n",
      "          aten::matmul         0.12%       2.000us         0.52%       9.000us       9.000us             1  \n",
      "              aten::mm         0.41%       7.000us         0.41%       7.000us       7.000us             1  \n",
      "    aten::resolve_conj         0.00%       0.000us         0.00%       0.000us       0.000us             1  \n",
      "    aten::resolve_conj         0.00%       0.000us         0.00%       0.000us       0.000us             1  \n",
      "         aten::numpy_T         0.06%       1.000us         0.35%       6.000us       6.000us             1  \n",
      "         aten::permute         0.23%       4.000us         0.29%       5.000us       5.000us             1  \n",
      "      aten::as_strided         0.06%       1.000us         0.06%       1.000us       1.000us             1  \n",
      "          aten::matmul         0.06%       1.000us         0.52%       9.000us       9.000us             1  \n",
      "              aten::mm         0.47%       8.000us         0.47%       8.000us       8.000us             1  \n",
      "    aten::resolve_conj         0.00%       0.000us         0.00%       0.000us       0.000us             1  \n",
      "    aten::resolve_conj         0.00%       0.000us         0.00%       0.000us       0.000us             1  \n",
      "         aten::numpy_T         0.06%       1.000us         0.35%       6.000us       6.000us             1  \n",
      "         aten::permute         0.23%       4.000us         0.29%       5.000us       5.000us             1  \n",
      "      aten::as_strided         0.06%       1.000us         0.06%       1.000us       1.000us             1  \n",
      "          aten::matmul         0.06%       1.000us         0.47%       8.000us       8.000us             1  \n",
      "              aten::mm         0.41%       7.000us         0.41%       7.000us       7.000us             1  \n",
      "    aten::resolve_conj         0.00%       0.000us         0.00%       0.000us       0.000us             1  \n",
      "    aten::resolve_conj         0.00%       0.000us         0.00%       0.000us       0.000us             1  \n",
      "         aten::numpy_T         0.06%       1.000us         0.35%       6.000us       6.000us             1  \n",
      "         aten::permute         0.23%       4.000us         0.29%       5.000us       5.000us             1  \n",
      "      aten::as_strided         0.06%       1.000us         0.06%       1.000us       1.000us             1  \n",
      "          aten::matmul         0.06%       1.000us         0.47%       8.000us       8.000us             1  \n",
      "              aten::mm         0.41%       7.000us         0.41%       7.000us       7.000us             1  \n",
      "    aten::resolve_conj         0.00%       0.000us         0.00%       0.000us       0.000us             1  \n",
      "    aten::resolve_conj         0.00%       0.000us         0.00%       0.000us       0.000us             1  \n",
      "         aten::numpy_T         0.06%       1.000us         0.35%       6.000us       6.000us             1  \n",
      "         aten::permute         0.23%       4.000us         0.29%       5.000us       5.000us             1  \n",
      "      aten::as_strided         0.06%       1.000us         0.06%       1.000us       1.000us             1  \n",
      "          aten::matmul         0.06%       1.000us         0.47%       8.000us       8.000us             1  \n",
      "              aten::mm         0.41%       7.000us         0.41%       7.000us       7.000us             1  \n",
      "    aten::resolve_conj         0.00%       0.000us         0.00%       0.000us       0.000us             1  \n",
      "    aten::resolve_conj         0.00%       0.000us         0.00%       0.000us       0.000us             1  \n",
      "         aten::numpy_T         0.06%       1.000us         0.35%       6.000us       6.000us             1  \n",
      "         aten::permute         0.23%       4.000us         0.29%       5.000us       5.000us             1  \n",
      "      aten::as_strided         0.06%       1.000us         0.06%       1.000us       1.000us             1  \n",
      "          aten::matmul         0.06%       1.000us         0.47%       8.000us       8.000us             1  \n",
      "              aten::mm         0.41%       7.000us         0.41%       7.000us       7.000us             1  \n",
      "    aten::resolve_conj         0.00%       0.000us         0.00%       0.000us       0.000us             1  \n",
      "    aten::resolve_conj         0.00%       0.000us         0.00%       0.000us       0.000us             1  \n",
      "         aten::numpy_T         0.06%       1.000us         0.35%       6.000us       6.000us             1  \n",
      "         aten::permute         0.23%       4.000us         0.29%       5.000us       5.000us             1  \n",
      "      aten::as_strided         0.06%       1.000us         0.06%       1.000us       1.000us             1  \n",
      "          aten::matmul         0.06%       1.000us         0.47%       8.000us       8.000us             1  \n",
      "              aten::mm         0.41%       7.000us         0.41%       7.000us       7.000us             1  \n",
      "    aten::resolve_conj         0.00%       0.000us         0.00%       0.000us       0.000us             1  \n",
      "    aten::resolve_conj         0.00%       0.000us         0.00%       0.000us       0.000us             1  \n",
      "         aten::numpy_T         0.06%       1.000us         0.35%       6.000us       6.000us             1  \n",
      "         aten::permute         0.23%       4.000us         0.29%       5.000us       5.000us             1  \n",
      "      aten::as_strided         0.06%       1.000us         0.06%       1.000us       1.000us             1  \n",
      "          aten::matmul         0.06%       1.000us         0.47%       8.000us       8.000us             1  \n",
      "              aten::mm         0.41%       7.000us         0.41%       7.000us       7.000us             1  \n",
      "    aten::resolve_conj         0.00%       0.000us         0.00%       0.000us       0.000us             1  \n",
      "    aten::resolve_conj         0.00%       0.000us         0.00%       0.000us       0.000us             1  \n",
      "         aten::numpy_T         0.06%       1.000us         0.35%       6.000us       6.000us             1  \n",
      "         aten::permute         0.23%       4.000us         0.29%       5.000us       5.000us             1  \n",
      "      aten::as_strided         0.06%       1.000us         0.06%       1.000us       1.000us             1  \n",
      "          aten::matmul         0.06%       1.000us         0.47%       8.000us       8.000us             1  \n",
      "              aten::mm         0.41%       7.000us         0.41%       7.000us       7.000us             1  \n",
      "    aten::resolve_conj         0.00%       0.000us         0.00%       0.000us       0.000us             1  \n",
      "    aten::resolve_conj         0.00%       0.000us         0.00%       0.000us       0.000us             1  \n",
      "         aten::numpy_T         0.29%       5.000us         0.99%      17.000us      17.000us             1  \n",
      "         aten::permute         0.52%       9.000us         0.70%      12.000us      12.000us             1  \n",
      "      aten::as_strided         0.17%       3.000us         0.17%       3.000us       3.000us             1  \n",
      "          aten::matmul         0.12%       2.000us         0.93%      16.000us      16.000us             1  \n",
      "              aten::mm         0.81%      14.000us         0.81%      14.000us      14.000us             1  \n",
      "    aten::resolve_conj         0.00%       0.000us         0.00%       0.000us       0.000us             1  \n",
      "    aten::resolve_conj         0.00%       0.000us         0.00%       0.000us       0.000us             1  \n",
      "         aten::numpy_T         0.06%       1.000us         0.41%       7.000us       7.000us             1  \n",
      "         aten::permute         0.29%       5.000us         0.35%       6.000us       6.000us             1  \n",
      "      aten::as_strided         0.06%       1.000us         0.06%       1.000us       1.000us             1  \n",
      "          aten::matmul         0.12%       2.000us         0.58%      10.000us      10.000us             1  \n",
      "              aten::mm         0.47%       8.000us         0.47%       8.000us       8.000us             1  \n",
      "    aten::resolve_conj         0.00%       0.000us         0.00%       0.000us       0.000us             1  \n",
      "    aten::resolve_conj         0.00%       0.000us         0.00%       0.000us       0.000us             1  \n",
      "         aten::numpy_T         0.06%       1.000us         0.35%       6.000us       6.000us             1  \n",
      "         aten::permute         0.23%       4.000us         0.29%       5.000us       5.000us             1  \n",
      "      aten::as_strided         0.06%       1.000us         0.06%       1.000us       1.000us             1  \n",
      "          aten::matmul         0.12%       2.000us         0.58%      10.000us      10.000us             1  \n",
      "              aten::mm         0.47%       8.000us         0.47%       8.000us       8.000us             1  \n",
      "    aten::resolve_conj         0.00%       0.000us         0.00%       0.000us       0.000us             1  \n",
      "    aten::resolve_conj         0.00%       0.000us         0.00%       0.000us       0.000us             1  \n",
      "         aten::numpy_T         0.06%       1.000us         0.35%       6.000us       6.000us             1  \n",
      "         aten::permute         0.23%       4.000us         0.29%       5.000us       5.000us             1  \n",
      "----------------------  ------------  ------------  ------------  ------------  ------------  ------------  \n",
      "Self CPU time total: 1.720ms\n",
      "\n"
     ]
    }
   ],
   "source": [
    "print(prof)"
   ]
  }
 ],
 "metadata": {
  "kernelspec": {
   "display_name": "Python 3",
   "language": "python",
   "name": "python3"
  },
  "language_info": {
   "codemirror_mode": {
    "name": "ipython",
    "version": 3
   },
   "file_extension": ".py",
   "mimetype": "text/x-python",
   "name": "python",
   "nbconvert_exporter": "python",
   "pygments_lexer": "ipython3",
   "version": "3.9.6"
  }
 },
 "nbformat": 4,
 "nbformat_minor": 2
}
